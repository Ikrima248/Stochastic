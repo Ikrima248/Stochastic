{
 "cells": [
  {
   "cell_type": "markdown",
   "id": "eed2afdb",
   "metadata": {},
   "source": [
    "# Week 3: Assignment 3\n",
    "**Total Marks**: 100        **Deadline**: 13ᵗʰ June, 2025\n",
    "\n",
    "**Instructions**: All the following are computational problems. Please compile them into a single Jupyter Notebook (or Google Colab file), and provide complete solutions for each question. Ensure that the code is well-commented and clearly explained for ease of understanding."
   ]
  },
  {
   "cell_type": "markdown",
   "id": "22ac764b",
   "metadata": {},
   "source": [
    "## Q1: Simulate a Standard Brownian Motion"
   ]
  },
  {
   "cell_type": "code",
   "execution_count": null,
   "id": "9c566f28",
   "metadata": {},
   "outputs": [],
   "source": [
    "# Simulate a single path of standard Brownian motion (Wiener process)\n",
    "import numpy as np\n",
    "import matplotlib.pyplot as plt\n",
    "\n",
    "T = 1.0\n",
    "N = 500\n",
    "dt = T / N\n",
    "t = np.linspace(0, T, N + 1)\n",
    "W = np.zeros(N + 1)\n",
    "W[1:] = np.cumsum(np.sqrt(dt) * np.random.randn(N))\n",
    "\n",
    "plt.plot(t, W)\n",
    "plt.title('Single Path of Standard Brownian Motion')\n",
    "plt.xlabel('t')\n",
    "plt.ylabel('W(t)')\n",
    "plt.grid(True)\n",
    "plt.show()"
   ]
  },
  {
   "cell_type": "markdown",
   "id": "435e606e",
   "metadata": {},
   "source": [
    "## Q2: Simulate Geometric Brownian Motion"
   ]
  },
  {
   "cell_type": "code",
   "execution_count": null,
   "id": "a06cd12b",
   "metadata": {},
   "outputs": [],
   "source": [
    "# Simulate 5 paths of Geometric Brownian Motion\n",
    "alpha = 0.1\n",
    "sigma = 0.2\n",
    "S0 = 100\n",
    "paths = 5\n",
    "\n",
    "plt.figure(figsize=(10, 6))\n",
    "for _ in range(paths):\n",
    "    W = np.zeros(N + 1)\n",
    "    W[1:] = np.cumsum(np.sqrt(dt) * np.random.randn(N))\n",
    "    S = S0 * np.exp(sigma * W + (alpha - 0.5 * sigma**2) * t)\n",
    "    plt.plot(t, S)\n",
    "\n",
    "plt.title('5 Paths of Geometric Brownian Motion')\n",
    "plt.xlabel('t')\n",
    "plt.ylabel('S(t)')\n",
    "plt.grid(True)\n",
    "plt.show()"
   ]
  },
  {
   "cell_type": "markdown",
   "id": "965fcc1b",
   "metadata": {},
   "source": [
    "## Q3: Expectation of $\\mathbb{E}[W_s W_t]$"
   ]
  },
  {
   "cell_type": "markdown",
   "id": "aff2a687",
   "metadata": {},
   "source": [
    "For standard Brownian motion:\n",
    "\\[ W_t = W_s + (W_t - W_s) \\]\n",
    "where \\( W_s \\) and \\( W_t - W_s \\) are independent.\n",
    "\n",
    "\\[ \\mathbb{E}[W_s W_t] = \\mathbb{E}[W_s (W_s + (W_t - W_s))] = \\mathbb{E}[W_s^2] + \\mathbb{E}[W_s (W_t - W_s)] = s + 0 = \\min(s, t) \\]"
   ]
  },
  {
   "cell_type": "markdown",
   "id": "e28cd352",
   "metadata": {},
   "source": [
    "## Q4: Distribution of Increments"
   ]
  },
  {
   "cell_type": "markdown",
   "id": "4f4751a4",
   "metadata": {},
   "source": [
    "For \\( 0 \\leq s < t \\), the increment \\( W_t - W_s \\sim \\mathcal{N}(0, t - s) \\).\n",
    "Also, increments over non-overlapping intervals are independent."
   ]
  },
  {
   "cell_type": "markdown",
   "id": "d33e67cd",
   "metadata": {},
   "source": [
    "## Q5: Brownian Motion is a Martingale"
   ]
  },
  {
   "cell_type": "markdown",
   "id": "a2ac22ef",
   "metadata": {},
   "source": [
    "Given \\( W_t = W_s + (W_t - W_s) \\), and \\( W_t - W_s \\perp \\mathcal{F}_s \\), we take conditional expectation:\n",
    "\\[ \\mathbb{E}[W_t | \\mathcal{F}_s] = \\mathbb{E}[W_s + (W_t - W_s) | \\mathcal{F}_s] = W_s + 0 = W_s \\]\n",
    "Hence, \\( W_t \\) is a martingale."
   ]
  }
 ],
 "metadata": {},
 "nbformat": 4,
 "nbformat_minor": 5
}
